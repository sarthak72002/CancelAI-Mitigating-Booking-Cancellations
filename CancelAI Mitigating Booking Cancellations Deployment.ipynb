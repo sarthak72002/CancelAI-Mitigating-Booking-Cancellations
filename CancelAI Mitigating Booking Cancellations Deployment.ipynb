{
 "cells": [
  {
   "cell_type": "code",
   "execution_count": 3,
   "id": "2faabd03-d471-4b83-a8c7-2c5b2a2f8a31",
   "metadata": {},
   "outputs": [],
   "source": [
    "import gradio as gr\n",
    "import pickle\n",
    "from warnings import filterwarnings\n",
    "filterwarnings('ignore')"
   ]
  },
  {
   "cell_type": "code",
   "execution_count": 4,
   "id": "d5cd880e-b666-4831-bae9-f205791e19f9",
   "metadata": {},
   "outputs": [],
   "source": [
    "with open('final_model_XGBoost.pkl','rb') as file:\n",
    "    model = pickle.load(file)"
   ]
  },
  {
   "cell_type": "code",
   "execution_count": 5,
   "id": "04dcd054-1386-46f3-914c-318dfdeb036b",
   "metadata": {},
   "outputs": [
    {
     "data": {
      "text/plain": [
       "array(['lead_time', 'market_segment_type', 'no_of_special_requests',\n",
       "       'avg_price_per_room', 'no_of_adults', 'no_of_weekend_nights',\n",
       "       'required_car_parking_space', 'no_of_week_nights', 'arrival_Day',\n",
       "       'arrival_Month', 'arrival_Weekday'], dtype='<U26')"
      ]
     },
     "execution_count": 5,
     "metadata": {},
     "output_type": "execute_result"
    }
   ],
   "source": [
    "model.feature_names_in_"
   ]
  },
  {
   "cell_type": "code",
   "execution_count": 6,
   "id": "f002da27-2d53-4709-bafe-8f413a28179e",
   "metadata": {},
   "outputs": [
    {
     "data": {
      "text/plain": [
       "0.46858412"
      ]
     },
     "execution_count": 6,
     "metadata": {},
     "output_type": "execute_result"
    }
   ],
   "source": [
    "model.predict_proba([[20,1,0,100,2,2,0,1,4,5,2]])[:,1][0]"
   ]
  },
  {
   "cell_type": "code",
   "execution_count": 7,
   "id": "02e33c21-8e67-446d-a63a-9661e60b36b6",
   "metadata": {},
   "outputs": [],
   "source": [
    "def prediction(lt,mst,spcl,price,adul,wkend,park,wk,ar_d,ar_m,ar_w):\n",
    "    input_Data = [[lt,mst,spcl,price,adul,wkend,park,wk,ar_d,ar_m,ar_w]]\n",
    "    pred = model.predict_proba(input_Data)[:,1][0]\n",
    "    if pred>0.5:\n",
    "        return f'This booking is more likely to canceled: chances = {round(pred*100,2)}%'\n",
    "    else:\n",
    "        return f'This booking is less likely to get canceled: chances = {round(pred*100,2)}%'"
   ]
  },
  {
   "cell_type": "code",
   "execution_count": 8,
   "id": "28012db7-9436-46b9-bd21-047310c16226",
   "metadata": {},
   "outputs": [
    {
     "data": {
      "text/plain": [
       "'This booking is less likely to get canceled: chances = 23.2%'"
      ]
     },
     "execution_count": 8,
     "metadata": {},
     "output_type": "execute_result"
    }
   ],
   "source": [
    " prediction(10,1,1,150,2,2,0,1,4,5,3)"
   ]
  },
  {
   "cell_type": "code",
   "execution_count": 9,
   "id": "5021ccbc-dbef-4818-b710-b6544db167c2",
   "metadata": {},
   "outputs": [],
   "source": [
    "iface = gr.Interface(fn=prediction,inputs=[gr.Number(label='How many prior days booking was made?'),\n",
    "                                          gr.Dropdown([('Online',1),('Offline',0)],label='How the booking was made?'),\n",
    "                                          gr.Dropdown([0,1,2,3,4,5],label='How many special requests were made?'),\n",
    "                                          gr.Number(label='What is the price per room offered?'),\n",
    "                                          gr.Dropdown([1,2,3,4],label='How many adults per room?'),\n",
    "                                          gr.Number(label='How many weekend nights in the stay?'),\n",
    "                                          gr.Dropdown([('Yes',1),('No',0)],label='Does booking includes parking facility?'),\n",
    "                                          gr.Number(label='How many week nights in the stay?'),\n",
    "                                          gr.Slider(minimum=1,maximum=31,step=1,label='What is the day of arrival?'),\n",
    "                                          gr.Slider(minimum=1,maximum=12,step=1,label='What is month of arrival?'),\n",
    "                                          gr.Dropdown([('Monday',0),('Tuesday',1),('Wednesday',2),('Thursday',3),('Friday',4),('Saturday',5),('Sunday',6)],\n",
    "                                                      label='What is weekday of arrival?')],\n",
    "                     outputs=gr.Textbox(label='Prediction'),\n",
    "                    title='INN Group of Hotels',\n",
    "                    description='This application will forecast the cancellation of booking',\n",
    "                    allow_flagging='never')"
   ]
  },
  {
   "cell_type": "code",
   "execution_count": 10,
   "id": "0a62e742-5429-468c-9308-52877a523d0c",
   "metadata": {},
   "outputs": [
    {
     "name": "stdout",
     "output_type": "stream",
     "text": [
      "Running on local URL:  http://127.0.0.1:7860\n",
      "\n",
      "To create a public link, set `share=True` in `launch()`.\n"
     ]
    },
    {
     "data": {
      "text/html": [
       "<div><iframe src=\"http://127.0.0.1:7860/\" width=\"100%\" height=\"500\" allow=\"autoplay; camera; microphone; clipboard-read; clipboard-write;\" frameborder=\"0\" allowfullscreen></iframe></div>"
      ],
      "text/plain": [
       "<IPython.core.display.HTML object>"
      ]
     },
     "metadata": {},
     "output_type": "display_data"
    },
    {
     "data": {
      "text/plain": []
     },
     "execution_count": 10,
     "metadata": {},
     "output_type": "execute_result"
    }
   ],
   "source": [
    "iface.launch()"
   ]
  },
  {
   "cell_type": "code",
   "execution_count": null,
   "id": "75c187ee-93ca-4ef2-b1d1-c2b08f233992",
   "metadata": {},
   "outputs": [],
   "source": []
  }
 ],
 "metadata": {
  "kernelspec": {
   "display_name": "Python 3 (ipykernel)",
   "language": "python",
   "name": "python3"
  },
  "language_info": {
   "codemirror_mode": {
    "name": "ipython",
    "version": 3
   },
   "file_extension": ".py",
   "mimetype": "text/x-python",
   "name": "python",
   "nbconvert_exporter": "python",
   "pygments_lexer": "ipython3",
   "version": "3.12.4"
  }
 },
 "nbformat": 4,
 "nbformat_minor": 5
}
